{
 "cells": [
  {
   "cell_type": "markdown",
   "id": "15a42af5",
   "metadata": {},
   "source": [
    "# Imports"
   ]
  },
  {
   "cell_type": "code",
   "execution_count": 14,
   "id": "a676b96a",
   "metadata": {},
   "outputs": [],
   "source": [
    "import pandas as pd\n",
    "import numpy as np\n",
    "from torch.utils.data import Dataset\n",
    "from sklearn.model_selection import train_test_split\n",
    "from sklearn.preprocessing import LabelEncoder\n",
    "from sklearn.metrics import f1_score\n",
    "from tqdm import tqdm\n",
    "import time\n",
    "import torch\n",
    "import torch.nn as nn\n",
    "import torch.nn.functional as F\n",
    "import time\n",
    "from sklearn.preprocessing import StandardScaler\n",
    "from torch.utils.data import TensorDataset\n",
    "from torch.utils.tensorboard import SummaryWriter\n",
    "import pandas as pd\n",
    "import numpy as np\n",
    "import matplotlib.pyplot as plt\n",
    "import seaborn as sns\n",
    "from torch.utils.data import Dataset\n",
    "import matplotlib.ticker as ticker\n",
    "from sklearn.model_selection import train_test_split\n",
    "from sklearn.preprocessing import LabelEncoder, OneHotEncoder\n",
    "from sklearn.ensemble import RandomForestClassifier\n",
    "from sklearn.metrics import accuracy_score\n",
    "from sklearn.metrics import confusion_matrix, ConfusionMatrixDisplay\n",
    "from sklearn.metrics import f1_score, roc_auc_score, roc_curve\n",
    "from sklearn.preprocessing import label_binarize\n",
    "from tqdm import tqdm\n",
    "from scipy.fft import fft\n",
    "import time\n",
    "import torch\n",
    "import torch.nn as nn\n",
    "import torch.nn.functional as F\n",
    "import math\n",
    "import time\n",
    "from sklearn.preprocessing import StandardScaler\n",
    "from torch.utils.data import TensorDataset, DataLoader"
   ]
  },
  {
   "cell_type": "markdown",
   "id": "0ad194b0",
   "metadata": {},
   "source": [
    "# Dataset Class"
   ]
  },
  {
   "cell_type": "code",
   "execution_count": 7,
   "id": "45f6fb93",
   "metadata": {},
   "outputs": [],
   "source": [
    "class DDoSDataset(Dataset):\n",
    "    def __init__(self, split):\n",
    "        if (split == \"train\"):\n",
    "            self.df_data = pd.concat([pd.read_csv(\"/home/appuser/data/train/SCLDDoS2024_SetA_events_extended.csv\"), pd.read_csv(\"/home/appuser/data/train/SCLDDoS2024_SetB_events_extended.csv\")])\n",
    "        elif (split == \"test\"):\n",
    "            self.df_data = pd.read_csv(\"/home/appuser/data/test/SCLDDoS2024_SetC_events_extended.csv\")\n",
    "        else:\n",
    "            raise ValueError(\"Invalid split. Choose 'train' or 'test'.\")\n",
    "        \n",
    "        self.split = split\n",
    "        self.check_for_invalid_values()\n",
    "        \n",
    "        self.preprocess()\n",
    "        \n",
    "    def check_for_invalid_values(self):\n",
    "        # Check for missing (NaN) values\n",
    "        missing_values = self.df_data.isna().sum()\n",
    "        if missing_values.any():\n",
    "            print(\"Missing values per column:\\n\", missing_values)\n",
    "        else:\n",
    "            print(\"No missing values in the dataframe.\")\n",
    "        \n",
    "        # Check for infinite values\n",
    "        infinite_values = self.df_data.isin([np.inf, -np.inf]).sum()\n",
    "        if infinite_values.any():\n",
    "            print(\"Infinite values per column:\\n\", infinite_values)\n",
    "        else:\n",
    "            print(\"No infinite values in the dataframe.\")\n",
    "        \n",
    "    def preprocess(self, undersample = False, sample_factor = 4):\n",
    "        X = self.df_data.iloc[:, :-1]  # Features\n",
    "        y = self.df_data.iloc[:, -1]   # Labels\n",
    "\n",
    "        if y.dtype == 'object':\n",
    "            self.label_encoder = LabelEncoder()\n",
    "            y = self.label_encoder.fit_transform(y)\n",
    "        else:\n",
    "            self.label_encoder = None\n",
    "            \n",
    "        scaler = StandardScaler()\n",
    "        X = scaler.fit_transform(X)\n",
    "        \n",
    "        # Convert to tensors\n",
    "        self.features = torch.tensor(X, dtype=torch.float32).to(\"cuda\")\n",
    "        self.labels = torch.tensor(y, dtype=torch.long).to(\"cuda\")\n",
    "\n",
    "        if undersample and self.split == \"train\":\n",
    "            # Undersample the majority class (label=0)\n",
    "            class_0_indices = np.where(self.labels.cpu().numpy() == 0)[0]\n",
    "            class_1_indices = np.where(self.labels.cpu().numpy() == 1)[0]\n",
    "            class_2_indices = np.where(self.labels.cpu().numpy() == 2)[0]\n",
    "\n",
    "            # Randomly undersample the majority class\n",
    "            num_class_1_samples = sample_factor*(len(class_0_indices) + len(class_2_indices))  # Same number as the minority class\n",
    "            class_1_indices_undersampled = np.random.choice(class_1_indices, num_class_1_samples, replace=False)\n",
    "\n",
    "            # Concatenate indices of class 1, 2, and undersampled class 0\n",
    "            undersampled_indices = np.concatenate([class_0_indices, class_1_indices_undersampled, class_2_indices])\n",
    "\n",
    "            # Subset the dataset to include only the sampled indices\n",
    "            self.features = self.features[undersampled_indices]\n",
    "            self.labels = self.labels[undersampled_indices]\n",
    "            \n",
    "        if self.split == \"train\":\n",
    "            features_cpu = self.features.cpu().numpy()\n",
    "            labels_cpu = self.labels.cpu().numpy()\n",
    "\n",
    "            X_train, X_val, y_train, y_val = train_test_split(\n",
    "                features_cpu, labels_cpu,\n",
    "                test_size=0.2,  # 20% validation\n",
    "                stratify=labels_cpu,  # preserve class distribution\n",
    "                random_state=42\n",
    "            )\n",
    "            \n",
    "            self.train_features = torch.tensor(X_train, dtype=torch.float32).to(\"cuda\")\n",
    "            self.train_labels = torch.tensor(y_train, dtype=torch.long).to(\"cuda\")\n",
    "\n",
    "            self.val_features = torch.tensor(X_val, dtype=torch.float32).to(\"cuda\")\n",
    "            self.val_labels = torch.tensor(y_val, dtype=torch.long).to(\"cuda\")\n",
    "            \n",
    "\n",
    "    def __len__(self):\n",
    "        return len(self.features)\n",
    "\n",
    "    def __getitem__(self, idx):\n",
    "        return self.features[idx], self.labels[idx]"
   ]
  },
  {
   "cell_type": "markdown",
   "id": "5850b1b2",
   "metadata": {},
   "source": [
    "# Fully Connected Classifier"
   ]
  },
  {
   "cell_type": "code",
   "execution_count": 8,
   "id": "e7205a0b",
   "metadata": {},
   "outputs": [],
   "source": [
    "# This a really simple Fully Connected classifier to try weighing the loss function as well as experimenting with data augmentation\n",
    "class FullyConnectedClassifier(nn.Module):\n",
    "    def __init__(self, input_size, num_classes, num_heads=4, attention_dim=128):\n",
    "        super(FullyConnectedClassifier, self).__init__()\n",
    "        self.leaky_relu = nn.LeakyReLU()\n",
    "        self.gelu = nn.GELU()\n",
    "        self.relu = nn.ReLU()\n",
    "        self.dropout = nn.Dropout(0.3)  # 30% dropout\n",
    "        \n",
    "        self.init_bn = nn.BatchNorm1d(input_size)\n",
    "        \n",
    "        self.bn1 = nn.BatchNorm1d(64)\n",
    "        self.bn2 = nn.BatchNorm1d(128)\n",
    "        self.bn3 = nn.BatchNorm1d(128)\n",
    "        self.bn4 = nn.BatchNorm1d(256)\n",
    "        self.bn5 = nn.BatchNorm1d(256)\n",
    "        self.bn6 = nn.BatchNorm1d(512)\n",
    "        self.bn7 = nn.BatchNorm1d(512)\n",
    "        self.bn8 = nn.BatchNorm1d(128)\n",
    "        self.bn9 = nn.BatchNorm1d(64)\n",
    "        \n",
    "        self.fc1 = nn.Linear(input_size, 64)\n",
    "        self.fc2 = nn.Linear(64, 128)\n",
    "        self.fc3 = nn.Linear(128, 128)  # Residual connection\n",
    "        self.fc4 = nn.Linear(128, 256)\n",
    "        self.fc5 = nn.Linear(256, 256)  # Residual connection \n",
    "        self.fc6 = nn.Linear(256, 512)\n",
    "        self.fc7 = nn.Linear(512, 512)  # Residual connection\n",
    "        self.fc8 = nn.Linear(512, 128)\n",
    "        self.fc9 = nn.Linear(128, 64)  \n",
    "        self.fc10 = nn.Linear(64, 32)\n",
    "        self.fc11 = nn.Linear(32, num_classes)\n",
    "        \n",
    "        self.fch1 = nn.Linear(512, 1024)\n",
    "        self.fch2 = nn.Linear(1024, 1024)\n",
    "        self.fch3 = nn.Linear(1024, 2048)\n",
    "        self.fch4 = nn.Linear(2048, 2048)\n",
    "        self.fch5 = nn.Linear(2048, 1024)\n",
    "        self.fch6 = nn.Linear(1024, 512)\n",
    "        \n",
    "        self.bnh1 = nn.BatchNorm1d(1024)\n",
    "        self.bnh2 = nn.BatchNorm1d(1024)\n",
    "        self.bnh3 = nn.BatchNorm1d(2048)\n",
    "        self.bnh4 = nn.BatchNorm1d(2048)\n",
    "        self.bnh5 = nn.BatchNorm1d(1024)\n",
    "        self.bnh6 = nn.BatchNorm1d(512)\n",
    "        \n",
    "        \n",
    "        \n",
    "        # Self-attention layers\n",
    "        self.attn1 = nn.MultiheadAttention(embed_dim=64, num_heads=num_heads, batch_first=True)\n",
    "        self.attn2 = nn.MultiheadAttention(embed_dim=128, num_heads=num_heads, batch_first=True)\n",
    "        self.attn3 = nn.MultiheadAttention(embed_dim=128, num_heads=num_heads, batch_first=True)\n",
    "        self.attn4 = nn.MultiheadAttention(embed_dim=256, num_heads=num_heads, batch_first=True)\n",
    "        self.attn5 = nn.MultiheadAttention(embed_dim=256, num_heads=num_heads, batch_first=True)\n",
    "        self.attn6 = nn.MultiheadAttention(embed_dim=512, num_heads=num_heads, batch_first=True)\n",
    "        self.attn7 = nn.MultiheadAttention(embed_dim=512, num_heads=num_heads, batch_first=True)\n",
    "        self.attn8 = nn.MultiheadAttention(embed_dim=128, num_heads=num_heads, batch_first=True)\n",
    "        self.attn9 = nn.MultiheadAttention(embed_dim=64, num_heads=num_heads, batch_first=True)\n",
    "        \n",
    "    def forward(self, x):\n",
    "        x = self.init_bn(x)\n",
    "        \n",
    "        # FC1 with attention\n",
    "        x = self.bn1(self.leaky_relu(self.fc1(x)))\n",
    "\n",
    "        # FC2 with attention\n",
    "        x = self.bn2(self.leaky_relu(self.fc2(x)))\n",
    "\n",
    "        # FC3 with residual and attention\n",
    "        x_res = x\n",
    "        x = self.dropout(self.bn3(self.leaky_relu(self.fc3(x))))\n",
    "        x, _ = self.attn3(x.unsqueeze(1), x.unsqueeze(1), x.unsqueeze(1))  # Apply attention\n",
    "        x = x.squeeze(1) + x_res  # Residual connection\n",
    "\n",
    "        # FC4 with attention\n",
    "        x = self.bn4(self.leaky_relu(self.fc4(x)))\n",
    "\n",
    "        # FC5 with residual and attention\n",
    "        x_res = x\n",
    "        x = self.dropout(self.bn5(self.leaky_relu(self.fc5(x))))\n",
    "        x, _ = self.attn5(x.unsqueeze(1), x.unsqueeze(1), x.unsqueeze(1))  # Apply attention\n",
    "        x = x.squeeze(1) + x_res  # Residual connection\n",
    "\n",
    "        # FC6\n",
    "        x = self.bn6(self.leaky_relu(self.fc6(x)))\n",
    "\n",
    "        # FC7 with residual and attention\n",
    "        x_res = x\n",
    "        x = self.dropout(self.bn7(self.leaky_relu(self.fc7(x))))\n",
    "        x, _ = self.attn7(x.unsqueeze(1), x.unsqueeze(1), x.unsqueeze(1))  # Apply attention\n",
    "        x = x.squeeze(1) + x_res  # Residual connection\n",
    "        \n",
    "        # Go into higher dimensionality\n",
    "        x = self.bnh1(self.leaky_relu(self.fch1(x)))\n",
    "        x = self.bnh2(self.leaky_relu(self.fch2(x)))\n",
    "        x = self.bnh3(self.leaky_relu(self.fch3(x)))\n",
    "        x = self.bnh4(self.leaky_relu(self.fch4(x)))\n",
    "        x = self.bnh5(self.leaky_relu(self.fch5(x)))\n",
    "        x = self.bnh6(self.leaky_relu(self.fch6(x)))\n",
    "        \n",
    "        \n",
    "        # FC8 w\n",
    "        x = self.bn8(self.leaky_relu(self.fc8(x)))\n",
    "        \n",
    "        # FC9 \n",
    "        x = self.bn9(self.leaky_relu(self.fc9(x)))     \n",
    "\n",
    "        # Final layers\n",
    "        x = self.leaky_relu(self.fc10(x))\n",
    "        x = self.fc11(x)  # No activation (raw logits for CrossEntropyLoss)\n",
    "\n",
    "        return x"
   ]
  },
  {
   "cell_type": "markdown",
   "id": "c6be3ca9",
   "metadata": {},
   "source": [
    "# Transformer-based Classifiers"
   ]
  },
  {
   "cell_type": "code",
   "execution_count": 9,
   "id": "d6dfd833",
   "metadata": {},
   "outputs": [],
   "source": [
    "# Focal loss to compensate for the imbalance\n",
    "class FocalLoss(nn.Module):\n",
    "    def __init__(self, alpha=0.25, gamma=2.0, reduction='mean'):\n",
    "        super(FocalLoss, self).__init__()\n",
    "        self.alpha = alpha\n",
    "        self.gamma = gamma\n",
    "        self.reduction = reduction\n",
    "\n",
    "    def forward(self, inputs, targets):\n",
    "        # Apply softmax to get probabilities\n",
    "        probs = F.softmax(inputs, dim=-1)\n",
    "        \n",
    "        # Get the probability for the true class (targets)\n",
    "        probs_true = probs.gather(dim=-1, index=targets.unsqueeze(1))\n",
    "        \n",
    "        # Calculate focal loss\n",
    "        loss = -self.alpha * (1 - probs_true) ** self.gamma * torch.log(probs_true)\n",
    "        \n",
    "        if self.reduction == 'mean':\n",
    "            return loss.mean()\n",
    "        elif self.reduction == 'sum':\n",
    "            return loss.sum()\n",
    "        else:\n",
    "            return loss\n",
    "\n",
    "class DDoSTransformer(nn.Module):\n",
    "    def __init__(self, input_dim=27, d_model=64, num_heads=8, num_layers=8, d_ff=256, dropout=0.1, num_classes=3):\n",
    "        super(DDoSTransformer, self).__init__()\n",
    "        self.input_projection = nn.Linear(input_dim, d_model)\n",
    "        \n",
    "        encoder_layer = nn.TransformerEncoderLayer(\n",
    "            d_model=d_model,\n",
    "            nhead=num_heads,\n",
    "            dim_feedforward=d_ff,\n",
    "            dropout=dropout,\n",
    "            batch_first=True\n",
    "        )\n",
    "        self.transformer_encoder = nn.TransformerEncoder(encoder_layer, num_layers=num_layers)\n",
    "\n",
    "        self.classifier = nn.Sequential(\n",
    "            nn.Linear(d_model, d_model),\n",
    "            nn.LeakyReLU(),\n",
    "            nn.Dropout(dropout),\n",
    "            nn.Linear(d_model, num_classes)\n",
    "        )\n",
    "\n",
    "    def forward(self, x):\n",
    "        # x shape: (batch_size, 27)\n",
    "        x = self.input_projection(x).unsqueeze(1)  # -> (batch_size, 1, d_model)\n",
    "        x = self.transformer_encoder(x)            # -> (batch_size, 1, d_model)\n",
    "        x = x.squeeze(1)                           # -> (batch_size, d_model)\n",
    "\n",
    "        return self.classifier(x) \n",
    "    \n",
    "        \n",
    "\n",
    "class DifferentiableTreeMLP(nn.Module):\n",
    "    def __init__(self, input_dim, num_layers=3, hidden_dim=256, num_classes=3, dropout=0.1):\n",
    "        super().__init__()\n",
    "        layers = []\n",
    "        for _ in range(num_layers):\n",
    "            layers.append(nn.Linear(input_dim, hidden_dim))\n",
    "            layers.append(nn.ReLU())\n",
    "            layers.append(nn.Dropout(dropout))\n",
    "            input_dim = hidden_dim\n",
    "        self.mlp = nn.Sequential(*layers)\n",
    "        self.classifier = nn.Linear(hidden_dim, num_classes)\n",
    "\n",
    "    def forward(self, x):\n",
    "        x = self.mlp(x)\n",
    "        return self.classifier(x)        \n",
    "        \n",
    "        \n",
    "class DDoSFeatureExtractor(nn.Module):\n",
    "    def __init__(self, input_dim=27, d_model=128, num_heads=8, num_layers=4, d_ff=256, dropout=0.1):\n",
    "        super().__init__()\n",
    "        self.input_proj = nn.Linear(input_dim, d_model)\n",
    "        encoder_layer = nn.TransformerEncoderLayer(\n",
    "            d_model=d_model, nhead=num_heads, dim_feedforward=d_ff,\n",
    "            dropout=dropout, batch_first=True\n",
    "        )\n",
    "        self.encoder = nn.TransformerEncoder(encoder_layer, num_layers=num_layers)\n",
    "\n",
    "    def forward(self, x):\n",
    "        x = self.input_proj(x).unsqueeze(1)     # (batch, 1, d_model)\n",
    "        x = self.encoder(x).squeeze(1)          # (batch, d_model)\n",
    "        return x\n",
    "    \n",
    "    \n",
    "class DDoSFeatureExtractorWithHead(nn.Module):\n",
    "    def __init__(self, input_dim=27, d_model=64, num_heads=8, num_layers=4, d_ff=128, dropout=0.1, num_classes=3):\n",
    "        super().__init__()\n",
    "        self.feature_extractor = DDoSFeatureExtractor(input_dim, d_model, num_heads, num_layers, d_ff, dropout)\n",
    "        self.classifier = nn.Sequential(\n",
    "            nn.Linear(d_model, d_model),\n",
    "            nn.ReLU(),\n",
    "            nn.Dropout(dropout),\n",
    "            nn.Linear(d_model, num_classes)\n",
    "        )\n",
    "\n",
    "    def forward(self, x):\n",
    "        features = self.feature_extractor(x)  # (batch, d_model)\n",
    "        return self.classifier(features)\n",
    "    \n",
    "    \n",
    "    \n",
    "class DDoSHybridNodeModel(nn.Module):\n",
    "    def __init__(self, input_dim=27, d_model=1024, num_heads=4, num_layers=4, d_ff=256, dropout=0.1, num_classes=3):\n",
    "        super().__init__()\n",
    "        self.feature_extractor = DDoSFeatureExtractor(input_dim, d_model, num_heads, num_layers, d_ff, dropout)\n",
    "        \n",
    "        # 2D Convolution Layers\n",
    "        self.conv_layers = nn.Sequential(\n",
    "            nn.Conv2d(1, 32, kernel_size=(3, 3), padding=1),  # First 2D conv layer\n",
    "            nn.ReLU(),\n",
    "            nn.MaxPool2d(kernel_size=(2, 2)),  # Pooling layer\n",
    "            nn.Conv2d(32, 8, kernel_size=(3, 3), padding=1),  # Second 2D conv layer\n",
    "            nn.ReLU(),\n",
    "            nn.MaxPool2d(kernel_size=(2, 2))  # Pooling layer\n",
    "        )\n",
    "        \n",
    "        # Calculate the size of the feature map after convolutions and pooling\n",
    "        # Assuming d_model is a perfect square (e.g., 1024 -> 32x32)\n",
    "        self.feature_map_size = (d_model // 2) // 2  # After two max poolings, each reduces the size by 2\n",
    "        \n",
    "        # Flatten and pass to classifier\n",
    "        self.classifier = nn.Sequential(\n",
    "            nn.Linear(512, 256),  # Adjust based on feature map size\n",
    "            nn.ReLU(),\n",
    "            nn.Dropout(dropout),\n",
    "            nn.Linear(256, num_classes)\n",
    "        )\n",
    "        \n",
    "    def forward(self, x):\n",
    "        # Extract features from the Transformer\n",
    "        x = self.feature_extractor(x)\n",
    "        \n",
    "        # Reshape to 2D (d_model/2, d_model/2)\n",
    "        x = x.view(x.size(0), 1, int(x.size(1) ** 0.5), int(x.size(1) ** 0.5))  # (batch, 1, d_model/2, d_model/2)\n",
    "        \n",
    "        # Apply 2D convolution layers\n",
    "        x = self.conv_layers(x)\n",
    "        \n",
    "        # Flatten and predict\n",
    "        x = torch.flatten(x, start_dim=1)  # Flatten except batch dimension\n",
    "        x = self.classifier(x)\n",
    "        \n",
    "        return x"
   ]
  },
  {
   "cell_type": "markdown",
   "id": "481c7984",
   "metadata": {},
   "source": [
    "# Training"
   ]
  },
  {
   "cell_type": "code",
   "execution_count": 21,
   "id": "5e2f74c5",
   "metadata": {},
   "outputs": [
    {
     "name": "stdout",
     "output_type": "stream",
     "text": [
      "No missing values in the dataframe.\n",
      "No infinite values in the dataframe.\n",
      "No missing values in the dataframe.\n",
      "No infinite values in the dataframe.\n",
      "Total number of parameters: 406019\n"
     ]
    },
    {
     "name": "stderr",
     "output_type": "stream",
     "text": [
      "Epoch 1/100: 100%|██████████| 414/414 [00:15<00:00, 27.48batch/s, loss=0.391]\n"
     ]
    },
    {
     "name": "stdout",
     "output_type": "stream",
     "text": [
      "Epoch 1/100, Loss: 0.3906\n"
     ]
    },
    {
     "name": "stderr",
     "output_type": "stream",
     "text": [
      "100%|██████████| 254/254 [00:02<00:00, 105.73it/s]\n"
     ]
    },
    {
     "name": "stdout",
     "output_type": "stream",
     "text": [
      "Model saved at epoch 1\n"
     ]
    },
    {
     "name": "stderr",
     "output_type": "stream",
     "text": [
      "Epoch 2/100: 100%|██████████| 414/414 [00:14<00:00, 28.02batch/s, loss=0.321]\n"
     ]
    },
    {
     "name": "stdout",
     "output_type": "stream",
     "text": [
      "Epoch 2/100, Loss: 0.3212\n"
     ]
    },
    {
     "name": "stderr",
     "output_type": "stream",
     "text": [
      "100%|██████████| 254/254 [00:02<00:00, 106.28it/s]\n",
      "Epoch 3/100: 100%|██████████| 414/414 [00:14<00:00, 27.97batch/s, loss=0.28] \n"
     ]
    },
    {
     "name": "stdout",
     "output_type": "stream",
     "text": [
      "Epoch 3/100, Loss: 0.2796\n"
     ]
    },
    {
     "name": "stderr",
     "output_type": "stream",
     "text": [
      "100%|██████████| 254/254 [00:02<00:00, 106.93it/s]\n",
      "Epoch 4/100: 100%|██████████| 414/414 [00:15<00:00, 27.41batch/s, loss=0.243]\n"
     ]
    },
    {
     "name": "stdout",
     "output_type": "stream",
     "text": [
      "Epoch 4/100, Loss: 0.2425\n"
     ]
    },
    {
     "name": "stderr",
     "output_type": "stream",
     "text": [
      "100%|██████████| 254/254 [00:02<00:00, 110.89it/s]\n",
      "Epoch 5/100: 100%|██████████| 414/414 [00:14<00:00, 27.73batch/s, loss=0.218]\n"
     ]
    },
    {
     "name": "stdout",
     "output_type": "stream",
     "text": [
      "Epoch 5/100, Loss: 0.2181\n"
     ]
    },
    {
     "name": "stderr",
     "output_type": "stream",
     "text": [
      "100%|██████████| 254/254 [00:02<00:00, 108.64it/s]\n",
      "Epoch 6/100: 100%|██████████| 414/414 [00:14<00:00, 27.96batch/s, loss=0.2]  \n"
     ]
    },
    {
     "name": "stdout",
     "output_type": "stream",
     "text": [
      "Epoch 6/100, Loss: 0.2002\n"
     ]
    },
    {
     "name": "stderr",
     "output_type": "stream",
     "text": [
      "100%|██████████| 254/254 [00:02<00:00, 105.81it/s]\n"
     ]
    },
    {
     "name": "stdout",
     "output_type": "stream",
     "text": [
      "Model saved at epoch 6\n"
     ]
    },
    {
     "name": "stderr",
     "output_type": "stream",
     "text": [
      "Epoch 7/100: 100%|██████████| 414/414 [00:14<00:00, 27.71batch/s, loss=0.189]\n"
     ]
    },
    {
     "name": "stdout",
     "output_type": "stream",
     "text": [
      "Epoch 7/100, Loss: 0.1886\n"
     ]
    },
    {
     "name": "stderr",
     "output_type": "stream",
     "text": [
      "100%|██████████| 254/254 [00:02<00:00, 105.00it/s]\n",
      "Epoch 8/100: 100%|██████████| 414/414 [00:14<00:00, 27.68batch/s, loss=0.182]\n"
     ]
    },
    {
     "name": "stdout",
     "output_type": "stream",
     "text": [
      "Epoch 8/100, Loss: 0.1815\n"
     ]
    },
    {
     "name": "stderr",
     "output_type": "stream",
     "text": [
      "100%|██████████| 254/254 [00:02<00:00, 112.00it/s]\n",
      "Epoch 9/100: 100%|██████████| 414/414 [00:14<00:00, 27.63batch/s, loss=0.176]\n"
     ]
    },
    {
     "name": "stdout",
     "output_type": "stream",
     "text": [
      "Epoch 9/100, Loss: 0.1759\n"
     ]
    },
    {
     "name": "stderr",
     "output_type": "stream",
     "text": [
      "100%|██████████| 254/254 [00:02<00:00, 110.96it/s]\n",
      "Epoch 10/100: 100%|██████████| 414/414 [00:15<00:00, 27.42batch/s, loss=0.172]\n"
     ]
    },
    {
     "name": "stdout",
     "output_type": "stream",
     "text": [
      "Epoch 10/100, Loss: 0.1722\n"
     ]
    },
    {
     "name": "stderr",
     "output_type": "stream",
     "text": [
      "100%|██████████| 254/254 [00:02<00:00, 109.03it/s]\n",
      "Epoch 11/100: 100%|██████████| 414/414 [00:15<00:00, 27.24batch/s, loss=0.169]\n"
     ]
    },
    {
     "name": "stdout",
     "output_type": "stream",
     "text": [
      "Epoch 11/100, Loss: 0.1694\n"
     ]
    },
    {
     "name": "stderr",
     "output_type": "stream",
     "text": [
      "100%|██████████| 254/254 [00:02<00:00, 111.86it/s]\n"
     ]
    },
    {
     "name": "stdout",
     "output_type": "stream",
     "text": [
      "Model saved at epoch 11\n"
     ]
    },
    {
     "name": "stderr",
     "output_type": "stream",
     "text": [
      "Epoch 12/100: 100%|██████████| 414/414 [00:15<00:00, 27.59batch/s, loss=0.166]\n"
     ]
    },
    {
     "name": "stdout",
     "output_type": "stream",
     "text": [
      "Epoch 12/100, Loss: 0.1665\n"
     ]
    },
    {
     "name": "stderr",
     "output_type": "stream",
     "text": [
      "100%|██████████| 254/254 [00:02<00:00, 110.48it/s]\n",
      "Epoch 13/100: 100%|██████████| 414/414 [00:15<00:00, 27.48batch/s, loss=0.162]\n"
     ]
    },
    {
     "name": "stdout",
     "output_type": "stream",
     "text": [
      "Epoch 13/100, Loss: 0.1621\n"
     ]
    },
    {
     "name": "stderr",
     "output_type": "stream",
     "text": [
      "100%|██████████| 254/254 [00:02<00:00, 106.47it/s]\n",
      "Epoch 14/100: 100%|██████████| 414/414 [00:15<00:00, 27.58batch/s, loss=0.16] \n"
     ]
    },
    {
     "name": "stdout",
     "output_type": "stream",
     "text": [
      "Epoch 14/100, Loss: 0.1595\n"
     ]
    },
    {
     "name": "stderr",
     "output_type": "stream",
     "text": [
      "100%|██████████| 254/254 [00:02<00:00, 110.06it/s]\n",
      "Epoch 15/100: 100%|██████████| 414/414 [00:15<00:00, 27.33batch/s, loss=0.157]\n"
     ]
    },
    {
     "name": "stdout",
     "output_type": "stream",
     "text": [
      "Epoch 15/100, Loss: 0.1566\n"
     ]
    },
    {
     "name": "stderr",
     "output_type": "stream",
     "text": [
      " 33%|███▎      | 83/254 [00:00<00:01, 94.82it/s] \n"
     ]
    },
    {
     "ename": "KeyboardInterrupt",
     "evalue": "",
     "output_type": "error",
     "traceback": [
      "\u001b[0;31m---------------------------------------------------------------------------\u001b[0m",
      "\u001b[0;31mKeyboardInterrupt\u001b[0m                         Traceback (most recent call last)",
      "Cell \u001b[0;32mIn[21], line 91\u001b[0m\n\u001b[1;32m     89\u001b[0m y_test \u001b[38;5;241m=\u001b[39m []\n\u001b[1;32m     90\u001b[0m pbar \u001b[38;5;241m=\u001b[39m tqdm(\u001b[38;5;28menumerate\u001b[39m(test_loader),total\u001b[38;5;241m=\u001b[39m\u001b[38;5;28mlen\u001b[39m(test_loader))\n\u001b[0;32m---> 91\u001b[0m \u001b[38;5;28;01mfor\u001b[39;00m i, data \u001b[38;5;129;01min\u001b[39;00m pbar:\n\u001b[1;32m     92\u001b[0m     inputs, labels \u001b[38;5;241m=\u001b[39m data\n\u001b[1;32m     93\u001b[0m     outputs \u001b[38;5;241m=\u001b[39m model(inputs)\n",
      "File \u001b[0;32m~/.local/lib/python3.10/site-packages/tqdm/std.py:1181\u001b[0m, in \u001b[0;36mtqdm.__iter__\u001b[0;34m(self)\u001b[0m\n\u001b[1;32m   1178\u001b[0m time \u001b[38;5;241m=\u001b[39m \u001b[38;5;28mself\u001b[39m\u001b[38;5;241m.\u001b[39m_time\n\u001b[1;32m   1180\u001b[0m \u001b[38;5;28;01mtry\u001b[39;00m:\n\u001b[0;32m-> 1181\u001b[0m     \u001b[38;5;28;01mfor\u001b[39;00m obj \u001b[38;5;129;01min\u001b[39;00m iterable:\n\u001b[1;32m   1182\u001b[0m         \u001b[38;5;28;01myield\u001b[39;00m obj\n\u001b[1;32m   1183\u001b[0m         \u001b[38;5;66;03m# Update and possibly print the progressbar.\u001b[39;00m\n\u001b[1;32m   1184\u001b[0m         \u001b[38;5;66;03m# Note: does not call self.update(1) for speed optimisation.\u001b[39;00m\n",
      "File \u001b[0;32m/opt/conda/lib/python3.10/site-packages/torch/utils/data/dataloader.py:631\u001b[0m, in \u001b[0;36m_BaseDataLoaderIter.__next__\u001b[0;34m(self)\u001b[0m\n\u001b[1;32m    628\u001b[0m \u001b[38;5;28;01mif\u001b[39;00m \u001b[38;5;28mself\u001b[39m\u001b[38;5;241m.\u001b[39m_sampler_iter \u001b[38;5;129;01mis\u001b[39;00m \u001b[38;5;28;01mNone\u001b[39;00m:\n\u001b[1;32m    629\u001b[0m     \u001b[38;5;66;03m# TODO(https://github.com/pytorch/pytorch/issues/76750)\u001b[39;00m\n\u001b[1;32m    630\u001b[0m     \u001b[38;5;28mself\u001b[39m\u001b[38;5;241m.\u001b[39m_reset()  \u001b[38;5;66;03m# type: ignore[call-arg]\u001b[39;00m\n\u001b[0;32m--> 631\u001b[0m data \u001b[38;5;241m=\u001b[39m \u001b[38;5;28;43mself\u001b[39;49m\u001b[38;5;241;43m.\u001b[39;49m\u001b[43m_next_data\u001b[49m\u001b[43m(\u001b[49m\u001b[43m)\u001b[49m\n\u001b[1;32m    632\u001b[0m \u001b[38;5;28mself\u001b[39m\u001b[38;5;241m.\u001b[39m_num_yielded \u001b[38;5;241m+\u001b[39m\u001b[38;5;241m=\u001b[39m \u001b[38;5;241m1\u001b[39m\n\u001b[1;32m    633\u001b[0m \u001b[38;5;28;01mif\u001b[39;00m \u001b[38;5;28mself\u001b[39m\u001b[38;5;241m.\u001b[39m_dataset_kind \u001b[38;5;241m==\u001b[39m _DatasetKind\u001b[38;5;241m.\u001b[39mIterable \u001b[38;5;129;01mand\u001b[39;00m \\\n\u001b[1;32m    634\u001b[0m         \u001b[38;5;28mself\u001b[39m\u001b[38;5;241m.\u001b[39m_IterableDataset_len_called \u001b[38;5;129;01mis\u001b[39;00m \u001b[38;5;129;01mnot\u001b[39;00m \u001b[38;5;28;01mNone\u001b[39;00m \u001b[38;5;129;01mand\u001b[39;00m \\\n\u001b[1;32m    635\u001b[0m         \u001b[38;5;28mself\u001b[39m\u001b[38;5;241m.\u001b[39m_num_yielded \u001b[38;5;241m>\u001b[39m \u001b[38;5;28mself\u001b[39m\u001b[38;5;241m.\u001b[39m_IterableDataset_len_called:\n",
      "File \u001b[0;32m/opt/conda/lib/python3.10/site-packages/torch/utils/data/dataloader.py:675\u001b[0m, in \u001b[0;36m_SingleProcessDataLoaderIter._next_data\u001b[0;34m(self)\u001b[0m\n\u001b[1;32m    673\u001b[0m \u001b[38;5;28;01mdef\u001b[39;00m\u001b[38;5;250m \u001b[39m\u001b[38;5;21m_next_data\u001b[39m(\u001b[38;5;28mself\u001b[39m):\n\u001b[1;32m    674\u001b[0m     index \u001b[38;5;241m=\u001b[39m \u001b[38;5;28mself\u001b[39m\u001b[38;5;241m.\u001b[39m_next_index()  \u001b[38;5;66;03m# may raise StopIteration\u001b[39;00m\n\u001b[0;32m--> 675\u001b[0m     data \u001b[38;5;241m=\u001b[39m \u001b[38;5;28;43mself\u001b[39;49m\u001b[38;5;241;43m.\u001b[39;49m\u001b[43m_dataset_fetcher\u001b[49m\u001b[38;5;241;43m.\u001b[39;49m\u001b[43mfetch\u001b[49m\u001b[43m(\u001b[49m\u001b[43mindex\u001b[49m\u001b[43m)\u001b[49m  \u001b[38;5;66;03m# may raise StopIteration\u001b[39;00m\n\u001b[1;32m    676\u001b[0m     \u001b[38;5;28;01mif\u001b[39;00m \u001b[38;5;28mself\u001b[39m\u001b[38;5;241m.\u001b[39m_pin_memory:\n\u001b[1;32m    677\u001b[0m         data \u001b[38;5;241m=\u001b[39m _utils\u001b[38;5;241m.\u001b[39mpin_memory\u001b[38;5;241m.\u001b[39mpin_memory(data, \u001b[38;5;28mself\u001b[39m\u001b[38;5;241m.\u001b[39m_pin_memory_device)\n",
      "File \u001b[0;32m/opt/conda/lib/python3.10/site-packages/torch/utils/data/_utils/fetch.py:51\u001b[0m, in \u001b[0;36m_MapDatasetFetcher.fetch\u001b[0;34m(self, possibly_batched_index)\u001b[0m\n\u001b[1;32m     49\u001b[0m         data \u001b[38;5;241m=\u001b[39m \u001b[38;5;28mself\u001b[39m\u001b[38;5;241m.\u001b[39mdataset\u001b[38;5;241m.\u001b[39m__getitems__(possibly_batched_index)\n\u001b[1;32m     50\u001b[0m     \u001b[38;5;28;01melse\u001b[39;00m:\n\u001b[0;32m---> 51\u001b[0m         data \u001b[38;5;241m=\u001b[39m [\u001b[38;5;28mself\u001b[39m\u001b[38;5;241m.\u001b[39mdataset[idx] \u001b[38;5;28;01mfor\u001b[39;00m idx \u001b[38;5;129;01min\u001b[39;00m possibly_batched_index]\n\u001b[1;32m     52\u001b[0m \u001b[38;5;28;01melse\u001b[39;00m:\n\u001b[1;32m     53\u001b[0m     data \u001b[38;5;241m=\u001b[39m \u001b[38;5;28mself\u001b[39m\u001b[38;5;241m.\u001b[39mdataset[possibly_batched_index]\n",
      "File \u001b[0;32m/opt/conda/lib/python3.10/site-packages/torch/utils/data/_utils/fetch.py:51\u001b[0m, in \u001b[0;36m<listcomp>\u001b[0;34m(.0)\u001b[0m\n\u001b[1;32m     49\u001b[0m         data \u001b[38;5;241m=\u001b[39m \u001b[38;5;28mself\u001b[39m\u001b[38;5;241m.\u001b[39mdataset\u001b[38;5;241m.\u001b[39m__getitems__(possibly_batched_index)\n\u001b[1;32m     50\u001b[0m     \u001b[38;5;28;01melse\u001b[39;00m:\n\u001b[0;32m---> 51\u001b[0m         data \u001b[38;5;241m=\u001b[39m [\u001b[38;5;28mself\u001b[39m\u001b[38;5;241m.\u001b[39mdataset[idx] \u001b[38;5;28;01mfor\u001b[39;00m idx \u001b[38;5;129;01min\u001b[39;00m possibly_batched_index]\n\u001b[1;32m     52\u001b[0m \u001b[38;5;28;01melse\u001b[39;00m:\n\u001b[1;32m     53\u001b[0m     data \u001b[38;5;241m=\u001b[39m \u001b[38;5;28mself\u001b[39m\u001b[38;5;241m.\u001b[39mdataset[possibly_batched_index]\n",
      "\u001b[0;31mKeyboardInterrupt\u001b[0m: "
     ]
    }
   ],
   "source": [
    "# define the run name and log directory, also intialize the TensorBoard writer\n",
    "run_name = \"DDoSTransformer\"  \n",
    "tb_log_dir = f'/home/appuser/src/logs/CustomModels/{run_name}'\n",
    "writer = SummaryWriter(log_dir=tb_log_dir)\n",
    "\n",
    "\n",
    "# Initialize the weights to Xavier uniform distribution and zero for biases\n",
    "def init_weights(m):\n",
    "    if isinstance(m, nn.Linear):\n",
    "        nn.init.xavier_uniform_(m.weight)\n",
    "        if m.bias is not None:\n",
    "            nn.init.zeros_(m.bias)\n",
    "      \n",
    "# count the trainable parameters in the model      \n",
    "def count_parameters(model):\n",
    "    return sum(p.numel() for p in model.parameters() if p.requires_grad)\n",
    "\n",
    "timestamp = time.strftime(\"%Y-%m-%d_%H-%M-%S\")\n",
    "filename = f\"weights/{run_name}_{timestamp}.pth\"\n",
    "\n",
    "\n",
    "# Create train dataloader and test/val datasets\n",
    "dataset = DDoSDataset(\"train\")\n",
    "test_dataset = DDoSDataset(\"test\")\n",
    "\n",
    "train_dataset = TensorDataset(dataset.train_features, dataset.train_labels)\n",
    "\n",
    "X_val = dataset.val_features\n",
    "y_val = dataset.val_labels\n",
    "\n",
    "X_test = test_dataset.features\n",
    "y_test = test_dataset.labels\n",
    "\n",
    "train_loader = torch.utils.data.DataLoader(train_dataset, batch_size=512, shuffle=True)\n",
    "test_loader = torch.utils.data.DataLoader(test_dataset, batch_size=512, shuffle=False)\n",
    "\n",
    "\n",
    "# Initialize the model, you should leave only one of the following lines uncommented at a time (the one you want to use)\n",
    "model = DDoSTransformer(input_dim=dataset.train_features.shape[1], num_classes=len(dataset.label_encoder.classes_)).to(\"cuda\")\n",
    "# model = DDoSHybridNodeModel(input_dim=dataset.train_features.shape[1], num_classes=len(dataset.label_encoder.classes_)).to(\"cuda\")\n",
    "# model = DDoSFeatureExtractorWithHead(input_dim=dataset.features.shape[1], num_classes=len(dataset.label_encoder.classes_)).to(\"cuda\")\n",
    "# model = FullyConnectedClassifier(input_size=dataset.features.shape[1], num_classes=len(dataset.label_encoder.classes_)).to(\"cuda\")\n",
    "model.apply(init_weights)\n",
    "\n",
    "\n",
    "# Use the AdamW optimizer with weight decay\n",
    "optimizer = torch.optim.AdamW(model.parameters(), lr=1e-4)\n",
    "\n",
    "# Use Focal Loss with alpha and gamma parameters or the CrossEntropyLoss with class weights\n",
    "loss_fn = FocalLoss(alpha=0.1, gamma=4.0, reduction='mean')\n",
    "loss_fn = nn.CrossEntropyLoss(weight=(torch.tensor([3.0, 1.0, 3.0]).to(\"cuda\")))\n",
    "num_epochs = 100\n",
    "\n",
    "# Get the total number of trainable parameters in the model\n",
    "total_params = count_parameters(model)\n",
    "print(f\"Total number of parameters: {total_params}\")\n",
    "\n",
    "\n",
    "# Train the model\n",
    "save_frequency = 5\n",
    "model.train()\n",
    "train_losss = []\n",
    "for epoch in range(num_epochs):\n",
    "    epoch_loss = 0\n",
    "    pbar = tqdm(enumerate(train_loader),total=len(train_loader), desc=f\"Epoch {epoch+1}/{num_epochs}\", unit=\"batch\")\n",
    "    for i, data in pbar:\n",
    "        inputs, labels = data\n",
    "\n",
    "        optimizer.zero_grad()\n",
    "        outputs = model(inputs)\n",
    "        \n",
    "        loss = loss_fn(outputs, labels)\n",
    "        loss.backward()\n",
    "        optimizer.step()\n",
    "        \n",
    "        epoch_loss += loss.item()\n",
    "        pbar.set_postfix(loss=epoch_loss/(i+1))\n",
    "    train_losss.append(epoch_loss / len(train_loader))\n",
    "    print(f\"Epoch {epoch+1}/{num_epochs}, Loss: {epoch_loss / len(train_loader):.4f}\")\n",
    "    \n",
    "    # Validation and test\n",
    "    with torch.no_grad():\n",
    "        model.eval()\n",
    "        val_outputs = model(X_val)\n",
    "        _, val_preds = torch.max(val_outputs, 1)\n",
    "        val_f1_macro = f1_score(y_val.cpu().numpy(), val_preds.cpu().numpy(), average='macro')\n",
    "        \n",
    "        y_pred = []\n",
    "        y_test = []\n",
    "        pbar = tqdm(enumerate(test_loader),total=len(test_loader))\n",
    "        for i, data in pbar:\n",
    "            inputs, labels = data\n",
    "            outputs = model(inputs)\n",
    "            \n",
    "            _, predicted = torch.max(outputs, 1)\n",
    "            y_pred.extend(predicted.cpu().numpy())\n",
    "            y_test.extend(labels.cpu().numpy())\n",
    "        test_f1_macro = f1_score(y_test, y_pred, average='macro')\n",
    "        \n",
    "        model.train()\n",
    "        \n",
    "    writer.add_scalar('validation_macro_F1', val_f1_macro, epoch+1)\n",
    "    writer.add_scalar('test_macro_F1', test_f1_macro, epoch+1)\n",
    "    writer.add_scalar('train_loss', epoch_loss/len(train_loader), epoch+1)\n",
    "\n",
    "    \n",
    "    if epoch % save_frequency == 0:\n",
    "        torch.save(model.state_dict(), filename)\n",
    "        print(f\"Model saved at epoch {epoch+1}\")"
   ]
  },
  {
   "cell_type": "markdown",
   "id": "826d8cf1",
   "metadata": {},
   "source": [
    "# Inference"
   ]
  },
  {
   "cell_type": "code",
   "execution_count": 22,
   "id": "5b8625d8",
   "metadata": {},
   "outputs": [
    {
     "name": "stdout",
     "output_type": "stream",
     "text": [
      "No missing values in the dataframe.\n",
      "No infinite values in the dataframe.\n"
     ]
    },
    {
     "name": "stderr",
     "output_type": "stream",
     "text": [
      "100%|██████████| 254/254 [00:02<00:00, 106.64it/s]\n"
     ]
    },
    {
     "name": "stdout",
     "output_type": "stream",
     "text": [
      "Overall accuracy: 0.90\n",
      "Confusion Matrix:\n",
      "[[   552    465     38]\n",
      " [  4716 115563   5613]\n",
      " [    35   2104    913]]\n",
      "Accuracy for class 'DDoS attack': 0.52\n",
      "Accuracy for class 'Normal traffic': 0.92\n",
      "Accuracy for class 'Suspicious traffic': 0.30\n",
      "Macro-average F1 score: 0.44\n",
      "Micro-average F1 score: 0.92\n"
     ]
    },
    {
     "data": {
      "text/plain": [
       "<Figure size 800x600 with 0 Axes>"
      ]
     },
     "metadata": {},
     "output_type": "display_data"
    },
    {
     "data": {
      "image/png": "[encoded data removed]",
      "text/plain": [
       "<Figure size 640x480 with 2 Axes>"
      ]
     },
     "metadata": {},
     "output_type": "display_data"
    }
   ],
   "source": [
    "test_dataset = DDoSDataset(\"test\")\n",
    "test_loader = torch.utils.data.DataLoader(test_dataset, batch_size=512, shuffle=False)\n",
    "\n",
    "# Be sure to use the same architecture as the one used for training\n",
    "model = DDoSTransformer(input_dim=dataset.train_features.shape[1], num_classes=len(dataset.label_encoder.classes_)).to(\"cuda\")\n",
    "# model = DDoSHybridNodeModel(input_dim=dataset.train_features.shape[1], num_classes=len(dataset.label_encoder.classes_)).to(\"cuda\")\n",
    "# model = DDoSFeatureExtractorWithHead(input_dim=dataset.features.shape[1], num_classes=len(dataset.label_encoder.classes_)).to(\"cuda\")\n",
    "# model = FullyConnectedClassifier(input_size=dataset.features.shape[1], num_classes=len(dataset.label_encoder.classes_)).to(\"cuda\")\n",
    "\n",
    "model.load_state_dict(torch.load(filename))\n",
    "model.to(\"cuda\")\n",
    "model.eval()\n",
    "\n",
    "y_pred = []\n",
    "y_test = []\n",
    "pbar = tqdm(enumerate(test_loader),total=len(test_loader))\n",
    "for i, data in pbar:\n",
    "    inputs, labels = data\n",
    "    outputs = model(inputs)\n",
    "    \n",
    "    _, predicted = torch.max(outputs, 1)\n",
    "    y_pred.extend(predicted.cpu().numpy())\n",
    "    y_test.extend(labels.cpu().numpy())\n",
    "    \n",
    "# Calculate overall accuracy\n",
    "accuracy = accuracy_score(y_test, y_pred)\n",
    "print(f\"Overall accuracy: {accuracy:.2f}\")\n",
    "\n",
    "# Calculate confusion matrix\n",
    "cm = confusion_matrix(y_test, y_pred)\n",
    "print(\"Confusion Matrix:\")\n",
    "print(cm)\n",
    "\n",
    "# Calculate per-class accuracy\n",
    "class_accuracy = cm.diagonal() / cm.sum(axis=1)\n",
    "label_encoder = test_dataset.label_encoder  # Assuming label_encoder is available\n",
    "for i, class_name in enumerate(label_encoder.classes_):\n",
    "    print(f\"Accuracy for class '{class_name}': {class_accuracy[i]:.2f}\")\n",
    "\n",
    "# Calculate F1 score (macro-average and weighted)\n",
    "f1_macro = f1_score(y_test, y_pred, average='macro')\n",
    "f1_weighted = f1_score(y_test, y_pred, average='weighted')\n",
    "\n",
    "print(f\"Macro-average F1 score: {f1_macro:.2f}\")\n",
    "print(f\"Micro-average F1 score: {f1_weighted:.2f}\")\n",
    "\n",
    "plt.figure(figsize=(8, 6))\n",
    "disp = ConfusionMatrixDisplay(confusion_matrix=cm, display_labels=test_dataset.label_encoder.classes_)\n",
    "disp.plot(cmap='Blues', values_format=\"d\")\n",
    "plt.imshow(np.log1p(cm), cmap='Blues')  # Log transform for better visualization\n",
    "plt.show()"
   ]
  }
 ],
 "metadata": {
  "kernelspec": {
   "display_name": "base",
   "language": "python",
   "name": "python3"
  },
  "language_info": {
   "codemirror_mode": {
    "name": "ipython",
    "version": 3
   },
   "file_extension": ".py",
   "mimetype": "text/x-python",
   "name": "python",
   "nbconvert_exporter": "python",
   "pygments_lexer": "ipython3",
   "version": "3.10.14"
  }
 },
 "nbformat": 4,
 "nbformat_minor": 5
}
